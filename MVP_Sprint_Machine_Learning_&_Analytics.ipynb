{
  "nbformat": 4,
  "nbformat_minor": 0,
  "metadata": {
    "colab": {
      "provenance": [],
      "toc_visible": true,
      "authorship_tag": "ABX9TyPdFo7AVZSR5A9c5xe+ytBJ",
      "include_colab_link": true
    },
    "kernelspec": {
      "name": "python3",
      "display_name": "Python 3"
    },
    "language_info": {
      "name": "python"
    }
  },
  "cells": [
    {
      "cell_type": "markdown",
      "metadata": {
        "id": "view-in-github",
        "colab_type": "text"
      },
      "source": [
        "<a href=\"https://colab.research.google.com/github/luizthompson/MVP_Sprints/blob/main/MVP_Sprint_Machine_Learning_%26_Analytics.ipynb\" target=\"_parent\"><img src=\"https://colab.research.google.com/assets/colab-badge.svg\" alt=\"Open In Colab\"/></a>"
      ]
    },
    {
      "cell_type": "markdown",
      "source": [
        "# MVP - Sprint: Machine Learning & Analytics\n",
        "Luiz Guilherme Thompson Vaz\n"
      ],
      "metadata": {
        "id": "wiRfIdnOVS82"
      }
    },
    {
      "cell_type": "markdown",
      "source": [
        "# Definição do Problema\n",
        "\n",
        "Descrição do Problema:\n",
        "O problema em questão é analisar os resultados de partidas da Copa Libertadores da América, considerando informações como a edição do torneio, a rodada, a data da partida, os clubes envolvidos e os placares."
      ],
      "metadata": {
        "id": "SdO7_jk5WGS-"
      }
    },
    {
      "cell_type": "markdown",
      "source": [
        "# Premissas ou Hipóteses\n",
        "\n",
        "\n",
        "Os resultados das partidas refletem o desempenho das equipes.\n",
        "As características dos clubes (força, estratégias, histórico, etc.) influenciam os resultados.\n",
        "O formato do torneio permaneceu constante ao longo das edições analisadas."
      ],
      "metadata": {
        "id": "A-2BkkUMWmVt"
      }
    },
    {
      "cell_type": "markdown",
      "source": [
        "# Restrições ou Condições para Selecionar os Dados\n",
        "\n",
        "Os dados devem ser confiáveis e abranger várias edições da Copa Libertadores.\n",
        "Os dados devem conter informações relevantes para análise, como os clubes envolvidos, as datas e os placares das partidas."
      ],
      "metadata": {
        "id": "4vxDObtSWue1"
      }
    },
    {
      "cell_type": "markdown",
      "source": [
        "# Descrição do Dataset\n",
        "O dataset consiste em um conjunto de dados tabulares com as seguintes colunas:\n",
        "\n",
        "Edition: Ano da edição da Copa Libertadores.\n",
        "Round: Rodada da partida (ex: Final, Semifinal, Quartas de Final, etc.).\n",
        "Date: Data da partida.\n",
        "Home Club: Clube mandante.\n",
        "Away Club: Clube visitante.\n",
        "Home Score: Placar do clube mandante.\n",
        "Away Score: Placar do clube visitante.\n"
      ],
      "metadata": {
        "id": "aqfHpSQkW26O"
      }
    },
    {
      "cell_type": "code",
      "source": [
        "# Importar as bibliotecas necessárias\n",
        "import numpy as np\n",
        "import pandas as pd\n",
        "from sklearn.model_selection import train_test_split\n",
        "from sklearn.preprocessing import StandardScaler, LabelEncoder\n",
        "from sklearn.linear_model import LogisticRegression\n",
        "from sklearn.metrics import accuracy_score, precision_score, recall_score, f1_score\n",
        "\n",
        "# Definição do Problema\n",
        "\n",
        "# Objetivo: entender e descrever claramente o problema que está sendo resolvido.\n",
        "\n",
        "# Qual é a descrição do problema?\n",
        "# Você tem premissas ou hipóteses sobre o problema? Quais?\n",
        "# Que restrições ou condições foram impostas para selecionar os dados?\n",
        "# Descreva o seu dataset (atributos, imagens, anotações, etc).\n",
        "\n",
        "# URL do arquivo CSV no GitHub\n",
        "url_dados = 'https://raw.githubusercontent.com/luizthompson/MVP_Sprints/8dd5432382946862109f439d0a49642b781a45e7/libertadores-results-ds.csv'\n",
        "\n",
        "# Carregar o dataset através do CSV\n",
        "df = pd.read_csv(url_dados)\n",
        "\n",
        "# Visualizar as primeiras linhas do dataset\n",
        "print(\"Primeiras linhas do dataset:\")\n",
        "print(df.head())\n",
        "\n"
      ],
      "metadata": {
        "colab": {
          "base_uri": "https://localhost:8080/"
        },
        "id": "Yp8Yo936YlMF",
        "outputId": "d41fd5c9-c3ab-4fb1-a55c-6370d3362585"
      },
      "execution_count": null,
      "outputs": [
        {
          "output_type": "stream",
          "name": "stdout",
          "text": [
            "Primeiras linhas do dataset:\n",
            "   Edition      Round        Date      Home Club      Away Club  Home Score  \\\n",
            "0     2023      Final   4/11/2023  Fluminense FC   Boca Juniors           2   \n",
            "1     2023  Semifinal   6/10/2023      Palmeiras   Boca Juniors           1   \n",
            "2     2023  Semifinal   5/10/2023  Internacional  Fluminense FC           1   \n",
            "3     2023  Semifinal  29/09/2023   Boca Juniors      Palmeiras           0   \n",
            "4     2023  Semifinal  28/09/2023  Fluminense FC  Internacional           2   \n",
            "\n",
            "   AwayScore  \n",
            "0          1  \n",
            "1          1  \n",
            "2          2  \n",
            "3          0  \n",
            "4          2  \n"
          ]
        }
      ]
    },
    {
      "cell_type": "markdown",
      "source": [
        "# Preparação de Dados\n",
        "\n",
        "Separação do Dataset\n",
        "O dataset pode ser separado em conjuntos de treino e teste, onde os dados de uma determinada edição podem ser utilizados para treino e os dados de uma edição posterior podem ser usados para teste.\n"
      ],
      "metadata": {
        "id": "HTbh4QlcW_29"
      }
    },
    {
      "cell_type": "code",
      "source": [
        "# Separar os atributos (features) e os rótulos (target)\n",
        "X = df.drop(['Home Score', 'AwayScore'], axis=1)  # atributos\n",
        "y = df[['Home Score', 'AwayScore']]  # rótulos\n",
        "\n",
        "# Dividir o dataset em conjunto de treino e teste\n",
        "X_train, X_test, y_train, y_test = train_test_split(X, y, test_size=0.2, random_state=42)"
      ],
      "metadata": {
        "id": "G9aH8R7kXr_v"
      },
      "execution_count": null,
      "outputs": []
    },
    {
      "cell_type": "markdown",
      "source": [
        "# Validação Cruzada\n",
        "Dado que temos um conjunto de dados históricos, faz sentido utilizar a validação cruzada para avaliar a performance dos modelos, especialmente considerando que diferentes edições da Copa Libertadores podem ter características distintas."
      ],
      "metadata": {
        "id": "WJdHQIzEYE2W"
      }
    },
    {
      "cell_type": "markdown",
      "source": [
        "# Transformações de Dados\n",
        "\n",
        "Normalização dos placares das partidas para que estejam na mesma escala.\n",
        "Codificação das variáveis categóricas como Round, Home Club e Away Club.\n",
        "Divisão dos dados em atributos (features) e rótulos (target)."
      ],
      "metadata": {
        "id": "S3yPmiLBYMpN"
      }
    },
    {
      "cell_type": "code",
      "source": [
        "# Normalizar os placares das partidas\n",
        "scaler = StandardScaler()\n",
        "y_train_scaled = scaler.fit_transform(y_train)\n",
        "y_test_scaled = scaler.transform(y_test)\n"
      ],
      "metadata": {
        "id": "gYXglbDaYOgd"
      },
      "execution_count": null,
      "outputs": []
    },
    {
      "cell_type": "markdown",
      "source": [
        "# Modelagem e Treinamento\n",
        "\n",
        "Algoritmos Indicados:\n",
        "Algoritmos de classificação podem ser adequados para prever se um determinado time vencerá uma partida ou não, como Regressão Logística, Árvores de Decisão, Random Forest, entre outros.\n",
        "\n"
      ],
      "metadata": {
        "id": "ptgu5j1JdPHr"
      }
    },
    {
      "cell_type": "markdown",
      "source": [],
      "metadata": {
        "id": "bPt3CnT3d4Sl"
      }
    },
    {
      "cell_type": "code",
      "source": [
        "# Inicializar e treinar o modelo de Regressão Logística\n",
        "logistic_model = LogisticRegression()\n",
        "logistic_model.fit(X_train_encoded, y_train_scaled.ravel())\n"
      ],
      "metadata": {
        "colab": {
          "base_uri": "https://localhost:8080/",
          "height": 176
        },
        "id": "CJl9WKYWd4bV",
        "outputId": "6b6e325b-b781-4d42-f98b-f24fec427557"
      },
      "execution_count": null,
      "outputs": [
        {
          "output_type": "error",
          "ename": "NameError",
          "evalue": "name 'LogisticRegression' is not defined",
          "traceback": [
            "\u001b[0;31m---------------------------------------------------------------------------\u001b[0m",
            "\u001b[0;31mNameError\u001b[0m                                 Traceback (most recent call last)",
            "\u001b[0;32m<ipython-input-1-e20ff08b0896>\u001b[0m in \u001b[0;36m<cell line: 2>\u001b[0;34m()\u001b[0m\n\u001b[1;32m      1\u001b[0m \u001b[0;31m# Inicializar e treinar o modelo de Regressão Logística\u001b[0m\u001b[0;34m\u001b[0m\u001b[0;34m\u001b[0m\u001b[0m\n\u001b[0;32m----> 2\u001b[0;31m \u001b[0mlogistic_model\u001b[0m \u001b[0;34m=\u001b[0m \u001b[0mLogisticRegression\u001b[0m\u001b[0;34m(\u001b[0m\u001b[0;34m)\u001b[0m\u001b[0;34m\u001b[0m\u001b[0;34m\u001b[0m\u001b[0m\n\u001b[0m\u001b[1;32m      3\u001b[0m \u001b[0mlogistic_model\u001b[0m\u001b[0;34m.\u001b[0m\u001b[0mfit\u001b[0m\u001b[0;34m(\u001b[0m\u001b[0mX_train_encoded\u001b[0m\u001b[0;34m,\u001b[0m \u001b[0my_train_scaled\u001b[0m\u001b[0;34m.\u001b[0m\u001b[0mravel\u001b[0m\u001b[0;34m(\u001b[0m\u001b[0;34m)\u001b[0m\u001b[0;34m)\u001b[0m\u001b[0;34m\u001b[0m\u001b[0;34m\u001b[0m\u001b[0m\n",
            "\u001b[0;31mNameError\u001b[0m: name 'LogisticRegression' is not defined"
          ]
        }
      ]
    }
  ]
}